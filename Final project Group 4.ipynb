{
 "cells": [
  {
   "cell_type": "code",
   "execution_count": 3,
   "id": "83c88f7e",
   "metadata": {},
   "outputs": [],
   "source": [
    "### ALL Packages Go HERE ###\n",
    "\n",
    "import pandas as pd\n",
    "import os"
   ]
  },
  {
   "cell_type": "code",
   "execution_count": 7,
   "id": "3a72c777",
   "metadata": {},
   "outputs": [
    {
     "name": "stdout",
     "output_type": "stream",
     "text": [
      "c:\\Users\\ToriT\\502_group4\\log_files\n"
     ]
    }
   ],
   "source": [
    "###Connection info for GitHub File### Reminder set github to public\n",
    "url = 'https://github.com/TexasTori/502_group4/raw/47991b001ffd176ab156b992140cb9d3d3a51df1/Group_4_Data.csv'\n",
    "\n",
    "data = pd.read_csv(url, sep=',', encoding='latin-1')\n",
    "\n",
    "###set up to automate files print location for team###\n",
    "cwd = os.getcwd() \n",
    "log_prefix = os.path.join(cwd,'log_files')\n",
    "print(log_prefix)"
   ]
  },
  {
   "cell_type": "code",
   "execution_count": null,
   "id": "66d753f1",
   "metadata": {},
   "outputs": [],
   "source": [
    "### Example of how to print using os module: ###\n",
    "# Define the file name\n",
    "file_name = 'output.csv'\n",
    "\n",
    "# Create the full file path\n",
    "file_path = os.path.join(log_prefix, file_name)\n",
    "\n",
    "# Creating a dictionary with fake data\n",
    "data = {\n",
    "    'Name': ['John', 'Alice', 'Bob'],\n",
    "    'Age': [30, 25, 35],\n",
    "    'City': ['New York', 'Los Angeles', 'Chicago']\n",
    "}\n",
    "\n",
    "# Creating the DataFrame\n",
    "df = pd.DataFrame(data)\n",
    "\n",
    "# Save the DataFrame to a CSV file\n",
    "df.to_csv(file_path, index=False)\n",
    "\n",
    "# Print the full file path\n",
    "print(\"CSV file saved at:\", file_path)"
   ]
  },
  {
   "cell_type": "code",
   "execution_count": 20,
   "id": "9d180548",
   "metadata": {},
   "outputs": [],
   "source": [
    "#data = pd.read_excel('/Users/bobbymarriott/Desktop/Data Mining Class/Project.xlsx')"
   ]
  },
  {
   "cell_type": "code",
   "execution_count": 8,
   "id": "8a6836ec",
   "metadata": {},
   "outputs": [
    {
     "data": {
      "text/html": [
       "<div>\n",
       "<style scoped>\n",
       "    .dataframe tbody tr th:only-of-type {\n",
       "        vertical-align: middle;\n",
       "    }\n",
       "\n",
       "    .dataframe tbody tr th {\n",
       "        vertical-align: top;\n",
       "    }\n",
       "\n",
       "    .dataframe thead th {\n",
       "        text-align: right;\n",
       "    }\n",
       "</style>\n",
       "<table border=\"1\" class=\"dataframe\">\n",
       "  <thead>\n",
       "    <tr style=\"text-align: right;\">\n",
       "      <th></th>\n",
       "      <th>ID</th>\n",
       "      <th>ESA2008</th>\n",
       "      <th>ESA2009</th>\n",
       "      <th>ESA2010</th>\n",
       "      <th>ESA2011</th>\n",
       "      <th>ESA2012</th>\n",
       "      <th>ESA2013</th>\n",
       "      <th>ESA2014</th>\n",
       "      <th>ESA2015</th>\n",
       "      <th>ESA2016</th>\n",
       "      <th>...</th>\n",
       "      <th>Protagonist</th>\n",
       "      <th>MainPC</th>\n",
       "      <th>PCTYPE</th>\n",
       "      <th>CharacterPrespective</th>\n",
       "      <th>Narrative</th>\n",
       "      <th>DigitalGameMainGenre</th>\n",
       "      <th>DigitalGameSecondaryGenre</th>\n",
       "      <th>DigitalGameThirdGenre</th>\n",
       "      <th>DigitalGameGenreOTHER</th>\n",
       "      <th>MetaCritic Review Score</th>\n",
       "    </tr>\n",
       "  </thead>\n",
       "  <tbody>\n",
       "    <tr>\n",
       "      <th>0</th>\n",
       "      <td>1</td>\n",
       "      <td>0</td>\n",
       "      <td>0</td>\n",
       "      <td>0</td>\n",
       "      <td>0</td>\n",
       "      <td>0</td>\n",
       "      <td>0</td>\n",
       "      <td>0</td>\n",
       "      <td>0</td>\n",
       "      <td>0</td>\n",
       "      <td>...</td>\n",
       "      <td>0</td>\n",
       "      <td>Slide</td>\n",
       "      <td>3</td>\n",
       "      <td>2</td>\n",
       "      <td>0</td>\n",
       "      <td>Action</td>\n",
       "      <td></td>\n",
       "      <td></td>\n",
       "      <td></td>\n",
       "      <td>NaN</td>\n",
       "    </tr>\n",
       "    <tr>\n",
       "      <th>1</th>\n",
       "      <td>2</td>\n",
       "      <td>0</td>\n",
       "      <td>0</td>\n",
       "      <td>0</td>\n",
       "      <td>0</td>\n",
       "      <td>0</td>\n",
       "      <td>0</td>\n",
       "      <td>0</td>\n",
       "      <td>0</td>\n",
       "      <td>0</td>\n",
       "      <td>...</td>\n",
       "      <td>NamelessAdventurer</td>\n",
       "      <td>0</td>\n",
       "      <td>0</td>\n",
       "      <td>0</td>\n",
       "      <td>1</td>\n",
       "      <td>TextAdventure</td>\n",
       "      <td></td>\n",
       "      <td></td>\n",
       "      <td></td>\n",
       "      <td>NaN</td>\n",
       "    </tr>\n",
       "    <tr>\n",
       "      <th>2</th>\n",
       "      <td>3</td>\n",
       "      <td>0</td>\n",
       "      <td>0</td>\n",
       "      <td>0</td>\n",
       "      <td>0</td>\n",
       "      <td>0</td>\n",
       "      <td>0</td>\n",
       "      <td>0</td>\n",
       "      <td>0</td>\n",
       "      <td>0</td>\n",
       "      <td>...</td>\n",
       "      <td>0</td>\n",
       "      <td>LaserCannon</td>\n",
       "      <td>0</td>\n",
       "      <td>2</td>\n",
       "      <td>0</td>\n",
       "      <td>Shooter</td>\n",
       "      <td>Arcade</td>\n",
       "      <td></td>\n",
       "      <td></td>\n",
       "      <td>NaN</td>\n",
       "    </tr>\n",
       "    <tr>\n",
       "      <th>3</th>\n",
       "      <td>4</td>\n",
       "      <td>0</td>\n",
       "      <td>0</td>\n",
       "      <td>0</td>\n",
       "      <td>0</td>\n",
       "      <td>0</td>\n",
       "      <td>0</td>\n",
       "      <td>0</td>\n",
       "      <td>0</td>\n",
       "      <td>0</td>\n",
       "      <td>...</td>\n",
       "      <td>Adventurer(Adventure)</td>\n",
       "      <td>adventurer</td>\n",
       "      <td>3</td>\n",
       "      <td>3</td>\n",
       "      <td>1</td>\n",
       "      <td>ActionAdventure</td>\n",
       "      <td></td>\n",
       "      <td></td>\n",
       "      <td></td>\n",
       "      <td>NaN</td>\n",
       "    </tr>\n",
       "    <tr>\n",
       "      <th>4</th>\n",
       "      <td>5</td>\n",
       "      <td>0</td>\n",
       "      <td>0</td>\n",
       "      <td>0</td>\n",
       "      <td>0</td>\n",
       "      <td>0</td>\n",
       "      <td>0</td>\n",
       "      <td>0</td>\n",
       "      <td>0</td>\n",
       "      <td>0</td>\n",
       "      <td>...</td>\n",
       "      <td>Kazuya</td>\n",
       "      <td>Multiple</td>\n",
       "      <td>3</td>\n",
       "      <td>7</td>\n",
       "      <td>1</td>\n",
       "      <td>Roguelike</td>\n",
       "      <td></td>\n",
       "      <td></td>\n",
       "      <td></td>\n",
       "      <td>NaN</td>\n",
       "    </tr>\n",
       "  </tbody>\n",
       "</table>\n",
       "<p>5 rows × 39 columns</p>\n",
       "</div>"
      ],
      "text/plain": [
       "   ID  ESA2008  ESA2009  ESA2010  ESA2011  ESA2012  ESA2013  ESA2014  ESA2015  \\\n",
       "0   1        0        0        0        0        0        0        0        0   \n",
       "1   2        0        0        0        0        0        0        0        0   \n",
       "2   3        0        0        0        0        0        0        0        0   \n",
       "3   4        0        0        0        0        0        0        0        0   \n",
       "4   5        0        0        0        0        0        0        0        0   \n",
       "\n",
       "   ESA2016  ...            Protagonist       MainPC  PCTYPE  \\\n",
       "0        0  ...                      0        Slide       3   \n",
       "1        0  ...     NamelessAdventurer            0       0   \n",
       "2        0  ...                      0  LaserCannon       0   \n",
       "3        0  ...  Adventurer(Adventure)   adventurer       3   \n",
       "4        0  ...                 Kazuya     Multiple       3   \n",
       "\n",
       "   CharacterPrespective  Narrative  DigitalGameMainGenre  \\\n",
       "0                     2          0                Action   \n",
       "1                     0          1         TextAdventure   \n",
       "2                     2          0               Shooter   \n",
       "3                     3          1       ActionAdventure   \n",
       "4                     7          1             Roguelike   \n",
       "\n",
       "   DigitalGameSecondaryGenre  DigitalGameThirdGenre  DigitalGameGenreOTHER  \\\n",
       "0                                                                            \n",
       "1                                                                            \n",
       "2                     Arcade                                                 \n",
       "3                                                                            \n",
       "4                                                                            \n",
       "\n",
       "   MetaCritic Review Score  \n",
       "0                      NaN  \n",
       "1                      NaN  \n",
       "2                      NaN  \n",
       "3                      NaN  \n",
       "4                      NaN  \n",
       "\n",
       "[5 rows x 39 columns]"
      ]
     },
     "execution_count": 8,
     "metadata": {},
     "output_type": "execute_result"
    }
   ],
   "source": [
    "data.head(5)"
   ]
  },
  {
   "cell_type": "code",
   "execution_count": 9,
   "id": "d884d7c9",
   "metadata": {},
   "outputs": [
    {
     "data": {
      "text/plain": [
       "ID                            0\n",
       "ESA2008                       0\n",
       "ESA2009                       0\n",
       "ESA2010                       0\n",
       "ESA2011                       0\n",
       "ESA2012                       0\n",
       "ESA2013                       0\n",
       "ESA2014                       0\n",
       "ESA2015                       0\n",
       "ESA2016                       0\n",
       "ESA2017                       0\n",
       "ESA2018                       0\n",
       "ESACount                      0\n",
       "EuroGamer                     0\n",
       "GamesRadar                    0\n",
       "Guardien                      0\n",
       "IGN                           0\n",
       "MetaCritic                    0\n",
       "Polygon                       0\n",
       "TIME                          0\n",
       "CriticCount                   0\n",
       "TotalCitationsCount           0\n",
       "DigitalGame                   0\n",
       "Year                          0\n",
       "YearInterval                  0\n",
       "Series                        0\n",
       "Mode                          0\n",
       "SpatialDimensionality         0\n",
       "Platformscount                1\n",
       "Protagonist                   0\n",
       "MainPC                        0\n",
       "PCTYPE                        0\n",
       "CharacterPrespective          0\n",
       "Narrative                     0\n",
       "DigitalGameMainGenre          0\n",
       "DigitalGameSecondaryGenre     0\n",
       "DigitalGameThirdGenre         0\n",
       "DigitalGameGenreOTHER         0\n",
       "MetaCritic Review Score      39\n",
       "dtype: int64"
      ]
     },
     "execution_count": 9,
     "metadata": {},
     "output_type": "execute_result"
    }
   ],
   "source": [
    "data.isnull().sum()"
   ]
  },
  {
   "cell_type": "markdown",
   "id": "b161efc4",
   "metadata": {},
   "source": [
    "1. Project Definition: Consider what specific metrics will define 'playability' or 'acclaim'—user ratings, hours played, critic scores, etc. Or is there a target variable that defines this for your? Your analysis will depend heavily on these definitions"
   ]
  },
  {
   "cell_type": "markdown",
   "id": "d03ec077",
   "metadata": {},
   "source": [
    "Highly Playable variables: Mode (single player, multiplayer, MMO), Spatial Dimensionality (2-d, 3-d), Platform count, Character Perspective, Narrative, Digital Game Main Genre, Critic Scores "
   ]
  },
  {
   "cell_type": "markdown",
   "id": "aecc6dab",
   "metadata": {},
   "source": [
    "Reflect on how the different performance metrics will guide business decisions. For example, if your model has high precision, it could be particularly useful in identifying games that are certain to receive acclaim, guiding marketing efforts to focus resources on these titles."
   ]
  },
  {
   "cell_type": "markdown",
   "id": "b3a39134",
   "metadata": {},
   "source": [
    "Conversely, a model with high recall could prevent overlooking games that could become highly playable, informing strategies to ensure broad coverage in promotional activities."
   ]
  },
  {
   "cell_type": "markdown",
   "id": "53944638",
   "metadata": {},
   "source": [
    "2. Data Exploration: Conduct a thorough exploratory data analysis to understand the variables at your disposal. For games, variables can be interdependent in complex ways. Player reviews might correlate with playtime, and genre might influence critical acclaim."
   ]
  },
  {
   "cell_type": "markdown",
   "id": "afe119d2",
   "metadata": {},
   "source": [
    "Patricio - EDA\n",
    "Tori - Cleaning Normalizing/standarizing - to prep for models\n",
    "-mod 3/4 training and testing data split.\n",
    "-Feature selection"
   ]
  },
  {
   "cell_type": "markdown",
   "id": "bbf0926f",
   "metadata": {},
   "source": [
    "3. Modeling Pathway: Given the binary nature of your classification problem, you might start with logistic regression to establish a baseline. As you progress, explore tree-based models or random forest or even neural networks that could capture more subtle patterns within your data. 4. Model Evaluation: Alongside standard classification metrics such as accuracy, precision, recall, consider the specific nature of your project's objectives."
   ]
  },
  {
   "cell_type": "markdown",
   "id": "96ff4cf0",
   "metadata": {},
   "source": [
    "# Predict how many awards based off the features"
   ]
  },
  {
   "cell_type": "markdown",
   "id": "1d746918",
   "metadata": {},
   "source": [
    "## Do we need a training and a test data set?  --YES"
   ]
  },
  {
   "cell_type": "markdown",
   "id": "57b8f224",
   "metadata": {},
   "source": [
    "# EDA?  Sort data at all?  Use a plot to find outliers? Histogram/Distribution of some sort?  Maybe binning of spatial dimensionality games or by narrative?  --Patricio"
   ]
  },
  {
   "cell_type": "markdown",
   "id": "b6b90575",
   "metadata": {},
   "source": [
    "# Do we need to convert/standardize/normalize any of this data?   ---TORI"
   ]
  },
  {
   "cell_type": "markdown",
   "id": "6f23e97a",
   "metadata": {},
   "source": [
    "# C5.0 Model and then also a summary of it"
   ]
  },
  {
   "cell_type": "markdown",
   "id": "df7c01c5",
   "metadata": {},
   "source": [
    "# CART Model and summary"
   ]
  },
  {
   "cell_type": "markdown",
   "id": "67418017",
   "metadata": {},
   "source": [
    "# Logistic Regression and summary"
   ]
  },
  {
   "cell_type": "markdown",
   "id": "08f99184",
   "metadata": {},
   "source": [
    "# Random Forest and summary"
   ]
  },
  {
   "cell_type": "markdown",
   "id": "2c7df7a9",
   "metadata": {},
   "source": [
    "# Naive Bayes and summary"
   ]
  },
  {
   "cell_type": "markdown",
   "id": "972d83a3",
   "metadata": {},
   "source": [
    "# ROC Curves? -maybe"
   ]
  },
  {
   "cell_type": "markdown",
   "id": "96894d07",
   "metadata": {},
   "source": [
    "## Model Evaluation Table"
   ]
  }
 ],
 "metadata": {
  "kernelspec": {
   "display_name": "Python 3 (ipykernel)",
   "language": "python",
   "name": "python3"
  },
  "language_info": {
   "codemirror_mode": {
    "name": "ipython",
    "version": 3
   },
   "file_extension": ".py",
   "mimetype": "text/x-python",
   "name": "python",
   "nbconvert_exporter": "python",
   "pygments_lexer": "ipython3",
   "version": "3.10.12"
  }
 },
 "nbformat": 4,
 "nbformat_minor": 5
}
